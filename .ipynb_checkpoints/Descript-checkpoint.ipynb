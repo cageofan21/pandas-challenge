{
 "cells": [
  {
   "cell_type": "markdown",
   "metadata": {},
   "source": [
    "One observable trend that I recognized is that the top 5 best performing schools, based on overall percent passing rate, happen to be of charter schools only. The bottom 5 performing schools in this same category happen to be district schools. The overall percent passing rate is around 95% for the best 5 performing schools, which are all charter. This is around a 22% difference from that of the bottom 5 performing schools (based on overal percent passing rate). From this data trend, it indicates that charter schools have a higher overall percent passing rate than that of district schools."
   ]
  },
  {
   "cell_type": "markdown",
   "metadata": {},
   "source": [
    "The second observable trend that I recognized from my analysis is that most students perform better at reading than math. As shown in the district summary table, out of 39,170 students, the percent of those passing reading is approximately 85% to that of 75% which is from those students passing math. In addition, from the schools summary table, every school has a higher percentage of students passing reading than math. "
   ]
  },
  {
   "cell_type": "raw",
   "metadata": {},
   "source": []
  }
 ],
 "metadata": {
  "kernelspec": {
   "display_name": "Python 3",
   "language": "python",
   "name": "python3"
  },
  "language_info": {
   "codemirror_mode": {
    "name": "ipython",
    "version": 3
   },
   "file_extension": ".py",
   "mimetype": "text/x-python",
   "name": "python",
   "nbconvert_exporter": "python",
   "pygments_lexer": "ipython3",
   "version": "3.6.9"
  }
 },
 "nbformat": 4,
 "nbformat_minor": 2
}
